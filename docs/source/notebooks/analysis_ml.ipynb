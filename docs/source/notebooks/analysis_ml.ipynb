{
 "cells": [
  {
   "cell_type": "markdown",
   "metadata": {},
   "source": [
    "# Traditional Machine Learning"
   ]
  },
  {
   "cell_type": "markdown",
   "metadata": {},
   "source": [
    "We first begin by importing the libraries that we will need for performing the preprocessing and algorithm training in this tutorial. Let's summarize what we will do today:\n",
    "\n",
    "#### Preprocessing\n",
    "- Data augmentation\n",
    "  - [Synthetic Minority Oversampling and Edited Nearest Neighbours (SMOTEENN)](https://towardsdatascience.com/imbalanced-classification-in-python-smote-enn-method-db5db06b8d50)\n",
    "  - [Oversample using Adaptive Synthetic (ADASYN)](https://towardsdatascience.com/the-mystery-of-adasyn-is-revealed-73bcba57c3fe)\n",
    "\n",
    "#### Algorithms\n",
    "- [Decision Tree (DT)](https://towardsdatascience.com/decision-trees-explained-3ec41632ceb6)\n",
    "- [Support Vector Machine (SVM)](https://towardsdatascience.com/support-vector-machine-explained-8bfef2f17e71)\n"
   ]
  },
  {
   "cell_type": "code",
   "execution_count": 44,
   "metadata": {},
   "outputs": [],
   "source": [
    "import pandas as pd\n",
    "import matplotlib.pyplot as plt\n",
    "import numpy as np\n",
    "from sklearn.linear_model import RidgeCV\n",
    "from sklearn.preprocessing import MinMaxScaler\n",
    "\n",
    "from sklearn.metrics import ConfusionMatrixDisplay\n",
    "from sklearn.tree import DecisionTreeClassifier\n",
    "from collections import Counter\n",
    "from imblearn.combine import SMOTEENN\n",
    "from imblearn.over_sampling import ADASYN\n",
    "from sklearn import svm\n",
    "from sklearn.metrics import accuracy_score, precision_score, recall_score, f1_score, classification_report"
   ]
  },
  {
   "cell_type": "markdown",
   "metadata": {},
   "source": [
    "The first step is to use the *pd.read_csv()* method to read the dataset that is in CSV format and store it inside a *Pandas* Dataframe, which is typically used for processing tabular data in machine learning. In he next step we print the dataframe (that we named \"df\") to inspect its characteristics. The output provides us with the dimensions of 288602 rows and 79 columns. This means that there are 288602 data samples in our dataset and 79 columns representing the dataset features, that we will use to train the machine learning models later. Upon closer inspection, it also appears that the very first column is not a feature but simply an index of each data sample (i.e., row) and the very last column  (\" Label\") contains the teacher label that will be used as the ground truth of the dataset. Other features include the \"Destination Port\", the \"Total Length of Fwd Packets\" and the \"Idle Mean\". \n",
    "\n",
    "We subsequently use the *value_counts()* method to check what labels are available across all rows. The output shows that in the dataset there are 288566 \"BENIGN\" labels and 36 \"Infiltration\" labels that represent malicious traffic."
   ]
  },
  {
   "cell_type": "code",
   "execution_count": 45,
   "metadata": {},
   "outputs": [],
   "source": [
    "df = pd.read_csv('Thursday-WorkingHours-Afternoon-Infilteration.pcap_ISCX.csv')"
   ]
  },
  {
   "cell_type": "code",
   "execution_count": 46,
   "metadata": {},
   "outputs": [
    {
     "data": {
      "text/html": [
       "<div>\n",
       "<style scoped>\n",
       "    .dataframe tbody tr th:only-of-type {\n",
       "        vertical-align: middle;\n",
       "    }\n",
       "\n",
       "    .dataframe tbody tr th {\n",
       "        vertical-align: top;\n",
       "    }\n",
       "\n",
       "    .dataframe thead th {\n",
       "        text-align: right;\n",
       "    }\n",
       "</style>\n",
       "<table border=\"1\" class=\"dataframe\">\n",
       "  <thead>\n",
       "    <tr style=\"text-align: right;\">\n",
       "      <th></th>\n",
       "      <th>Destination Port</th>\n",
       "      <th>Flow Duration</th>\n",
       "      <th>Total Fwd Packets</th>\n",
       "      <th>Total Backward Packets</th>\n",
       "      <th>Total Length of Fwd Packets</th>\n",
       "      <th>Total Length of Bwd Packets</th>\n",
       "      <th>Fwd Packet Length Max</th>\n",
       "      <th>Fwd Packet Length Min</th>\n",
       "      <th>Fwd Packet Length Mean</th>\n",
       "      <th>Fwd Packet Length Std</th>\n",
       "      <th>...</th>\n",
       "      <th>min_seg_size_forward</th>\n",
       "      <th>Active Mean</th>\n",
       "      <th>Active Std</th>\n",
       "      <th>Active Max</th>\n",
       "      <th>Active Min</th>\n",
       "      <th>Idle Mean</th>\n",
       "      <th>Idle Std</th>\n",
       "      <th>Idle Max</th>\n",
       "      <th>Idle Min</th>\n",
       "      <th>Label</th>\n",
       "    </tr>\n",
       "  </thead>\n",
       "  <tbody>\n",
       "    <tr>\n",
       "      <th>0</th>\n",
       "      <td>22</td>\n",
       "      <td>166</td>\n",
       "      <td>1</td>\n",
       "      <td>1</td>\n",
       "      <td>0</td>\n",
       "      <td>0</td>\n",
       "      <td>0</td>\n",
       "      <td>0</td>\n",
       "      <td>0.0</td>\n",
       "      <td>0.0</td>\n",
       "      <td>...</td>\n",
       "      <td>32</td>\n",
       "      <td>0.000</td>\n",
       "      <td>0.000</td>\n",
       "      <td>0</td>\n",
       "      <td>0</td>\n",
       "      <td>0.0</td>\n",
       "      <td>0.000</td>\n",
       "      <td>0</td>\n",
       "      <td>0</td>\n",
       "      <td>BENIGN</td>\n",
       "    </tr>\n",
       "    <tr>\n",
       "      <th>1</th>\n",
       "      <td>60148</td>\n",
       "      <td>83</td>\n",
       "      <td>1</td>\n",
       "      <td>2</td>\n",
       "      <td>0</td>\n",
       "      <td>0</td>\n",
       "      <td>0</td>\n",
       "      <td>0</td>\n",
       "      <td>0.0</td>\n",
       "      <td>0.0</td>\n",
       "      <td>...</td>\n",
       "      <td>32</td>\n",
       "      <td>0.000</td>\n",
       "      <td>0.000</td>\n",
       "      <td>0</td>\n",
       "      <td>0</td>\n",
       "      <td>0.0</td>\n",
       "      <td>0.000</td>\n",
       "      <td>0</td>\n",
       "      <td>0</td>\n",
       "      <td>BENIGN</td>\n",
       "    </tr>\n",
       "    <tr>\n",
       "      <th>2</th>\n",
       "      <td>123</td>\n",
       "      <td>99947</td>\n",
       "      <td>1</td>\n",
       "      <td>1</td>\n",
       "      <td>48</td>\n",
       "      <td>48</td>\n",
       "      <td>48</td>\n",
       "      <td>48</td>\n",
       "      <td>48.0</td>\n",
       "      <td>0.0</td>\n",
       "      <td>...</td>\n",
       "      <td>40</td>\n",
       "      <td>0.000</td>\n",
       "      <td>0.000</td>\n",
       "      <td>0</td>\n",
       "      <td>0</td>\n",
       "      <td>0.0</td>\n",
       "      <td>0.000</td>\n",
       "      <td>0</td>\n",
       "      <td>0</td>\n",
       "      <td>BENIGN</td>\n",
       "    </tr>\n",
       "    <tr>\n",
       "      <th>3</th>\n",
       "      <td>123</td>\n",
       "      <td>37017</td>\n",
       "      <td>1</td>\n",
       "      <td>1</td>\n",
       "      <td>48</td>\n",
       "      <td>48</td>\n",
       "      <td>48</td>\n",
       "      <td>48</td>\n",
       "      <td>48.0</td>\n",
       "      <td>0.0</td>\n",
       "      <td>...</td>\n",
       "      <td>32</td>\n",
       "      <td>0.000</td>\n",
       "      <td>0.000</td>\n",
       "      <td>0</td>\n",
       "      <td>0</td>\n",
       "      <td>0.0</td>\n",
       "      <td>0.000</td>\n",
       "      <td>0</td>\n",
       "      <td>0</td>\n",
       "      <td>BENIGN</td>\n",
       "    </tr>\n",
       "    <tr>\n",
       "      <th>4</th>\n",
       "      <td>0</td>\n",
       "      <td>111161336</td>\n",
       "      <td>147</td>\n",
       "      <td>0</td>\n",
       "      <td>0</td>\n",
       "      <td>0</td>\n",
       "      <td>0</td>\n",
       "      <td>0</td>\n",
       "      <td>0.0</td>\n",
       "      <td>0.0</td>\n",
       "      <td>...</td>\n",
       "      <td>0</td>\n",
       "      <td>1753752.625</td>\n",
       "      <td>2123197.578</td>\n",
       "      <td>4822992</td>\n",
       "      <td>95</td>\n",
       "      <td>9463032.7</td>\n",
       "      <td>2657727.996</td>\n",
       "      <td>13600000</td>\n",
       "      <td>5700287</td>\n",
       "      <td>BENIGN</td>\n",
       "    </tr>\n",
       "    <tr>\n",
       "      <th>...</th>\n",
       "      <td>...</td>\n",
       "      <td>...</td>\n",
       "      <td>...</td>\n",
       "      <td>...</td>\n",
       "      <td>...</td>\n",
       "      <td>...</td>\n",
       "      <td>...</td>\n",
       "      <td>...</td>\n",
       "      <td>...</td>\n",
       "      <td>...</td>\n",
       "      <td>...</td>\n",
       "      <td>...</td>\n",
       "      <td>...</td>\n",
       "      <td>...</td>\n",
       "      <td>...</td>\n",
       "      <td>...</td>\n",
       "      <td>...</td>\n",
       "      <td>...</td>\n",
       "      <td>...</td>\n",
       "      <td>...</td>\n",
       "      <td>...</td>\n",
       "    </tr>\n",
       "    <tr>\n",
       "      <th>288597</th>\n",
       "      <td>80</td>\n",
       "      <td>590930</td>\n",
       "      <td>2</td>\n",
       "      <td>0</td>\n",
       "      <td>0</td>\n",
       "      <td>0</td>\n",
       "      <td>0</td>\n",
       "      <td>0</td>\n",
       "      <td>0.0</td>\n",
       "      <td>0.0</td>\n",
       "      <td>...</td>\n",
       "      <td>32</td>\n",
       "      <td>0.000</td>\n",
       "      <td>0.000</td>\n",
       "      <td>0</td>\n",
       "      <td>0</td>\n",
       "      <td>0.0</td>\n",
       "      <td>0.000</td>\n",
       "      <td>0</td>\n",
       "      <td>0</td>\n",
       "      <td>BENIGN</td>\n",
       "    </tr>\n",
       "    <tr>\n",
       "      <th>288598</th>\n",
       "      <td>80</td>\n",
       "      <td>1187988</td>\n",
       "      <td>2</td>\n",
       "      <td>0</td>\n",
       "      <td>0</td>\n",
       "      <td>0</td>\n",
       "      <td>0</td>\n",
       "      <td>0</td>\n",
       "      <td>0.0</td>\n",
       "      <td>0.0</td>\n",
       "      <td>...</td>\n",
       "      <td>32</td>\n",
       "      <td>0.000</td>\n",
       "      <td>0.000</td>\n",
       "      <td>0</td>\n",
       "      <td>0</td>\n",
       "      <td>0.0</td>\n",
       "      <td>0.000</td>\n",
       "      <td>0</td>\n",
       "      <td>0</td>\n",
       "      <td>BENIGN</td>\n",
       "    </tr>\n",
       "    <tr>\n",
       "      <th>288599</th>\n",
       "      <td>80</td>\n",
       "      <td>10</td>\n",
       "      <td>1</td>\n",
       "      <td>9</td>\n",
       "      <td>6</td>\n",
       "      <td>54</td>\n",
       "      <td>6</td>\n",
       "      <td>6</td>\n",
       "      <td>6.0</td>\n",
       "      <td>0.0</td>\n",
       "      <td>...</td>\n",
       "      <td>20</td>\n",
       "      <td>0.000</td>\n",
       "      <td>0.000</td>\n",
       "      <td>0</td>\n",
       "      <td>0</td>\n",
       "      <td>0.0</td>\n",
       "      <td>0.000</td>\n",
       "      <td>0</td>\n",
       "      <td>0</td>\n",
       "      <td>BENIGN</td>\n",
       "    </tr>\n",
       "    <tr>\n",
       "      <th>288600</th>\n",
       "      <td>138</td>\n",
       "      <td>19</td>\n",
       "      <td>10</td>\n",
       "      <td>0</td>\n",
       "      <td>2370</td>\n",
       "      <td>0</td>\n",
       "      <td>237</td>\n",
       "      <td>237</td>\n",
       "      <td>237.0</td>\n",
       "      <td>0.0</td>\n",
       "      <td>...</td>\n",
       "      <td>20</td>\n",
       "      <td>0.000</td>\n",
       "      <td>0.000</td>\n",
       "      <td>0</td>\n",
       "      <td>0</td>\n",
       "      <td>0.0</td>\n",
       "      <td>0.000</td>\n",
       "      <td>0</td>\n",
       "      <td>0</td>\n",
       "      <td>BENIGN</td>\n",
       "    </tr>\n",
       "    <tr>\n",
       "      <th>288601</th>\n",
       "      <td>80</td>\n",
       "      <td>4751966</td>\n",
       "      <td>2</td>\n",
       "      <td>0</td>\n",
       "      <td>0</td>\n",
       "      <td>0</td>\n",
       "      <td>0</td>\n",
       "      <td>0</td>\n",
       "      <td>0.0</td>\n",
       "      <td>0.0</td>\n",
       "      <td>...</td>\n",
       "      <td>32</td>\n",
       "      <td>0.000</td>\n",
       "      <td>0.000</td>\n",
       "      <td>0</td>\n",
       "      <td>0</td>\n",
       "      <td>0.0</td>\n",
       "      <td>0.000</td>\n",
       "      <td>0</td>\n",
       "      <td>0</td>\n",
       "      <td>BENIGN</td>\n",
       "    </tr>\n",
       "  </tbody>\n",
       "</table>\n",
       "<p>288602 rows × 79 columns</p>\n",
       "</div>"
      ],
      "text/plain": [
       "         Destination Port   Flow Duration   Total Fwd Packets  \\\n",
       "0                      22             166                   1   \n",
       "1                   60148              83                   1   \n",
       "2                     123           99947                   1   \n",
       "3                     123           37017                   1   \n",
       "4                       0       111161336                 147   \n",
       "...                   ...             ...                 ...   \n",
       "288597                 80          590930                   2   \n",
       "288598                 80         1187988                   2   \n",
       "288599                 80              10                   1   \n",
       "288600                138              19                  10   \n",
       "288601                 80         4751966                   2   \n",
       "\n",
       "         Total Backward Packets  Total Length of Fwd Packets  \\\n",
       "0                             1                            0   \n",
       "1                             2                            0   \n",
       "2                             1                           48   \n",
       "3                             1                           48   \n",
       "4                             0                            0   \n",
       "...                         ...                          ...   \n",
       "288597                        0                            0   \n",
       "288598                        0                            0   \n",
       "288599                        9                            6   \n",
       "288600                        0                         2370   \n",
       "288601                        0                            0   \n",
       "\n",
       "         Total Length of Bwd Packets   Fwd Packet Length Max  \\\n",
       "0                                  0                       0   \n",
       "1                                  0                       0   \n",
       "2                                 48                      48   \n",
       "3                                 48                      48   \n",
       "4                                  0                       0   \n",
       "...                              ...                     ...   \n",
       "288597                             0                       0   \n",
       "288598                             0                       0   \n",
       "288599                            54                       6   \n",
       "288600                             0                     237   \n",
       "288601                             0                       0   \n",
       "\n",
       "         Fwd Packet Length Min   Fwd Packet Length Mean  \\\n",
       "0                            0                      0.0   \n",
       "1                            0                      0.0   \n",
       "2                           48                     48.0   \n",
       "3                           48                     48.0   \n",
       "4                            0                      0.0   \n",
       "...                        ...                      ...   \n",
       "288597                       0                      0.0   \n",
       "288598                       0                      0.0   \n",
       "288599                       6                      6.0   \n",
       "288600                     237                    237.0   \n",
       "288601                       0                      0.0   \n",
       "\n",
       "         Fwd Packet Length Std  ...   min_seg_size_forward  Active Mean  \\\n",
       "0                          0.0  ...                     32        0.000   \n",
       "1                          0.0  ...                     32        0.000   \n",
       "2                          0.0  ...                     40        0.000   \n",
       "3                          0.0  ...                     32        0.000   \n",
       "4                          0.0  ...                      0  1753752.625   \n",
       "...                        ...  ...                    ...          ...   \n",
       "288597                     0.0  ...                     32        0.000   \n",
       "288598                     0.0  ...                     32        0.000   \n",
       "288599                     0.0  ...                     20        0.000   \n",
       "288600                     0.0  ...                     20        0.000   \n",
       "288601                     0.0  ...                     32        0.000   \n",
       "\n",
       "         Active Std   Active Max   Active Min  Idle Mean     Idle Std  \\\n",
       "0             0.000            0            0        0.0        0.000   \n",
       "1             0.000            0            0        0.0        0.000   \n",
       "2             0.000            0            0        0.0        0.000   \n",
       "3             0.000            0            0        0.0        0.000   \n",
       "4       2123197.578      4822992           95  9463032.7  2657727.996   \n",
       "...             ...          ...          ...        ...          ...   \n",
       "288597        0.000            0            0        0.0        0.000   \n",
       "288598        0.000            0            0        0.0        0.000   \n",
       "288599        0.000            0            0        0.0        0.000   \n",
       "288600        0.000            0            0        0.0        0.000   \n",
       "288601        0.000            0            0        0.0        0.000   \n",
       "\n",
       "         Idle Max   Idle Min   Label  \n",
       "0               0          0  BENIGN  \n",
       "1               0          0  BENIGN  \n",
       "2               0          0  BENIGN  \n",
       "3               0          0  BENIGN  \n",
       "4        13600000    5700287  BENIGN  \n",
       "...           ...        ...     ...  \n",
       "288597          0          0  BENIGN  \n",
       "288598          0          0  BENIGN  \n",
       "288599          0          0  BENIGN  \n",
       "288600          0          0  BENIGN  \n",
       "288601          0          0  BENIGN  \n",
       "\n",
       "[288602 rows x 79 columns]"
      ]
     },
     "execution_count": 46,
     "metadata": {},
     "output_type": "execute_result"
    }
   ],
   "source": [
    "df"
   ]
  },
  {
   "cell_type": "code",
   "execution_count": 47,
   "metadata": {},
   "outputs": [
    {
     "name": "stdout",
     "output_type": "stream",
     "text": [
      " Label\n",
      "BENIGN          288566\n",
      "Infiltration        36\n",
      "Name: count, dtype: int64\n"
     ]
    }
   ],
   "source": [
    "# Inspect all labels in the dataset\n",
    "counts = df[' Label'].value_counts()\n",
    "print(counts)"
   ]
  },
  {
   "cell_type": "markdown",
   "metadata": {},
   "source": [
    "In the next step, we have to do some elementary preprocessing that is required to ensure that all the cells in the dataset are populated and that there are no invalid entries. We specifically want to check for any empty (\"NaN\") cells across the rows, or any numbers that are infinitely large. In some cases datasets can contain too many entries with empty numbers, and we therefore count and print the number of rows of such instances. In our example there are only 18 rows where there is at least one NaN entry in the columns, and 207 instances of infinite values. The reason why we check for these is because we want to remove them from the dataset so that they do not result in code execution issues, as they have possibly been introduced by dataset errors. It is also important to count them, because if they are too many then we may end up removing a large part of the dataset, which is undesirable.\n",
    "\n",
    "Then, we want to convert the string labels to numerical labels, so that they can be processed by the algorithms during training. We do this by applying the *replace()* method on the the \" Label\" column of the dataframe. All \"BENIGN\" strings are replaced by the number 0 and all \"Infiltration\" (i.e., malicious activity) labels are replaced by the number 1.\n",
    "\n",
    "In the next cell we split the dataset (i.e., the entire dataframe) into the features that will be used to extract useful information during training (*X_original*) and the teacher labels (*y_original*). Then we use the *MinMaxScaler()* function of scikit-learn to scale all features cells to have values between 0.0 and 1.0. Importantly, the variable produced (\"X_scaled\") as output is now a *numpy* array, and not a dataframe anymore. The values are scaled because standardizing the values in datasets has been shown to be important in machine learning algorithms, and it can eliminate the possibility of the different scales of different features biasing what the classifier learns. Lastly, the minimum and maximum values across both dimensions (rows and columns) is printed to verify that the lowest value is 0.0 and the highest 1.0."
   ]
  },
  {
   "cell_type": "code",
   "execution_count": 48,
   "metadata": {},
   "outputs": [
    {
     "name": "stdout",
     "output_type": "stream",
     "text": [
      "Number of rows with at least one NaN value: 18\n",
      "Number of rows with at least one inf value: 207\n"
     ]
    }
   ],
   "source": [
    "# Preprocessing: Remove all rows with NaN or inf values\n",
    "\n",
    "# Count rows with at least one NaN value\n",
    "nan_rows_indices = df.index[df.isna().any(axis=1)].tolist()\n",
    "nan_rows_count = len(nan_rows_indices)\n",
    "print(\"Number of rows with at least one NaN value:\", nan_rows_count)\n",
    "\n",
    "# Exclude last column because it has strings and the check for inf numbers throws an error\n",
    "X = df.iloc[:, 0:-1]\n",
    "\n",
    "# Count rows with at least one infinite value\n",
    "inf_rows_indices = X.index[np.isinf(X).any(axis=1)].tolist()\n",
    "inf_rows_count = len(inf_rows_indices)\n",
    "print(\"Number of rows with at least one inf value:\", inf_rows_count)\n",
    "\n",
    "# Combine indices of rows with NaN or inf values\n",
    "rows_to_drop = set(nan_rows_indices + inf_rows_indices)\n",
    "\n",
    "# Drop rows with at least one NaN or inf value\n",
    "df2 = df.drop(index=rows_to_drop)"
   ]
  },
  {
   "cell_type": "code",
   "execution_count": 49,
   "metadata": {},
   "outputs": [
    {
     "name": "stdout",
     "output_type": "stream",
     "text": [
      " Label\n",
      "0    288359\n",
      "1        36\n",
      "Name: count, dtype: int64\n"
     ]
    }
   ],
   "source": [
    "# Make the labels numerical\n",
    "df2[' Label'] = df2[' Label'].replace({'BENIGN': 0, 'Infiltration': 1})\n",
    "label_counts = df2[' Label'].value_counts()\n",
    "print(label_counts)"
   ]
  },
  {
   "cell_type": "code",
   "execution_count": 50,
   "metadata": {},
   "outputs": [],
   "source": [
    "# Split dataset into features and labels\n",
    "X_original = df2.iloc[:,0:-1]\n",
    "y_original = df2.iloc[:, -1]"
   ]
  },
  {
   "cell_type": "code",
   "execution_count": 51,
   "metadata": {},
   "outputs": [
    {
     "name": "stdout",
     "output_type": "stream",
     "text": [
      "1.0\n",
      "0.0\n"
     ]
    }
   ],
   "source": [
    "# Transform the features to only have a range [0, 1]. Note that the scaled data are now a numpy array, not a df\n",
    "scaler = MinMaxScaler()\n",
    "X_scaled = scaler.fit_transform(X_original)\n",
    "\n",
    "# Print the min and max of values in the scaled dataframe\n",
    "print(X_scaled.max(axis=None))\n",
    "print(X_scaled.min(axis=None))"
   ]
  },
  {
   "cell_type": "markdown",
   "metadata": {},
   "source": [
    "Below we define a custom function *data_split* that takes as input the \"X_scaled\" *numpy* array containing the dataset features, a dataframe \"y_original\" with the correct labels and the test ratio. The test ratio defines what percentage of the data the user wants to keep for testing the performance of the models, with the remaining data being used for model training.\n",
    "\n",
    "In the beginning the dataframe \"y\" is converted to a *numpy* array before proceeding to implement the code for splitting the data into train and test subsets for each of the two parts: the features \"X_scaled\" and the labels \"y_original\". In the first step, the *np.where()* method is used to extract the indices for each label and later we use those to slice the dataset using the indices as predefined by the \"test_ratio\". We next shuffle the dataset so that sampling is radom, eliminating any sampling bias that can occur by selecting data that are close together during the data split. The resulting variables are the following:\n",
    "\n",
    " - X_train: the training subset contaning the features to be used for training. It consists of 70% of the dataset.\n",
    " - X_test: the test subset reserved for testing model performance containing the samples with features. In the example above 30% of the data are used for testing.\n",
    " - y_train: the training subset contaning the labels to be used for training. It consists of 70% of the dataset.\n",
    " - y_test: the test subset reserved for testing model performance and includes all training features. It is 30% of the data.\n",
    "\n",
    " We call the function using *X_train, X_test, y_train, y_test = data_split(X_scaled, y_original)* and the length of each array to verify that the splitting went well and that the total number of elements in each training set is identical. We do the same for the test sets."
   ]
  },
  {
   "cell_type": "code",
   "execution_count": 53,
   "metadata": {},
   "outputs": [],
   "source": [
    "# Function to split dataset into training and testing data\n",
    "def data_split(X=X_scaled, y=y_original, test_ratio=0.3):\n",
    "\n",
    "    # X is already an array from when we normalized the numbers between 0 and 1.\n",
    "    # Convert y to an array too.\n",
    "    y = y.to_numpy()\n",
    "\n",
    "    # Extract indices of each of the two classes in the dataframe \n",
    "    benign_indices = np.where(y == 0)[0]\n",
    "    malicious_indices = np.where(y == 1)[0]\n",
    "\n",
    "    # Shuffle array and sample the indices according to the specified test_ratio\n",
    "    np.random.shuffle(benign_indices)\n",
    "    np.random.shuffle(malicious_indices)\n",
    "\n",
    "    index_benign = int(test_ratio * len(benign_indices))\n",
    "    index_malicious = int(test_ratio * len(malicious_indices))\n",
    "\n",
    "    benign_indices_test = benign_indices[:index_benign]\n",
    "    malicious_indices_test = malicious_indices[:index_malicious]\n",
    "\n",
    "    benign_indices_train = benign_indices[index_benign:]\n",
    "    malicious_indices_train = malicious_indices[index_malicious:]\n",
    "\n",
    "    X_train = X[np.concatenate((benign_indices_train, malicious_indices_train)), :]\n",
    "    X_test = X[np.concatenate((benign_indices_test, malicious_indices_test)), :]\n",
    "    y_train = y[np.concatenate((benign_indices_train, malicious_indices_train))]\n",
    "    y_test = y[np.concatenate((benign_indices_test, malicious_indices_test))]\n",
    "\n",
    "    return X_train, X_test, y_train, y_test"
   ]
  },
  {
   "cell_type": "code",
   "execution_count": 56,
   "metadata": {},
   "outputs": [
    {
     "name": "stdout",
     "output_type": "stream",
     "text": [
      "288395\n",
      "288395\n",
      "201878\n",
      "201878\n",
      "86517\n",
      "86517\n"
     ]
    }
   ],
   "source": [
    "X_train, X_test, y_train, y_test = data_split(X_scaled, y_original) \n",
    "\n",
    "print(len(X_scaled))\n",
    "print(len(y_original))\n",
    "\n",
    "print(len(X_train))\n",
    "print(len(y_train))\n",
    "\n",
    "print(len(X_test))\n",
    "print(len(y_test))"
   ]
  },
  {
   "cell_type": "markdown",
   "metadata": {},
   "source": [
    "In the next section, we will focus on training the models. We instantiate a *DecisionTreeClassifier()* object that we name \"dt_model\" for \"Decision Tree\" model. Upon instantiating the classifier we use the *model.fit()* method to fit the model to the data. In other words, the algorithm is trained on the data so that it extracts relevant features that can aid it in minimizing the number of errors when predicting labels for the \"X_test\" data. This prediction (or inference) step is performed using the *model.predict()* method.\n",
    "\n",
    "We specifically train a number of models with different setups and preprocessing steps in order to determine which performs best for our dataset through experimentation. We conduct the following experiments with the following configurations:\n",
    "\n",
    " - DT algorithm without data sugmentation\n",
    " - SVM algorithm without data augmentation\n",
    " - DT algorithm with data segmentation (SMOTEENN algorithm)\n",
    " - DT algorithm with data segmentation (ADASYN algorithm)\n",
    " - SVM algorithm with data segmentation (SMOTEENN algorithm)\n",
    " - SVM algorithm with data segmentation (ADASYN algorithm)\n",
    "\n",
    "In the step that follows, we assess how well each of the models performs by computing relevant accuracy metrics and by plotting a confusion-matrix. A *confusion-matrix* provides visually shows the number of correct and incorrect predictions made per class (in our case there are two classes: for benign and non-benign traffic). We implement the confusion matrix using *disp = ConfusionMatrixDisplay.from_estimator()* and by passing as input the corresponding model, the test features and the test labels.\n",
    "\n",
    "Other than computing the accuracy, we additionally compute the precision, recall and F1 scores that summarize the performance of our models, and we can use them to decide which one is best for classifying our data into benign and malicious traffic. Those predicts compute a single number each that is based on the number of true/false positive and true/false negatives."
   ]
  },
  {
   "cell_type": "code",
   "execution_count": 57,
   "metadata": {},
   "outputs": [
    {
     "name": "stdout",
     "output_type": "stream",
     "text": [
      "Accuracy: 0.9998497405134251\n",
      "Precision: 0.4\n",
      "Recall: 0.6\n",
      "F1 Score: 0.48\n"
     ]
    },
    {
     "data": {
      "image/png": "[encoded data removed]",
      "text/plain": [
       "<Figure size 640x480 with 2 Axes>"
      ]
     },
     "metadata": {},
     "output_type": "display_data"
    }
   ],
   "source": [
    "# Create the Decision Tree classifer \n",
    "dt_model = DecisionTreeClassifier()\n",
    "\n",
    "# Train Decision Tree Classifer\n",
    "dt_model = dt_model.fit(X_train,y_train)\n",
    "\n",
    "# Make a prediction\n",
    "y_pred_dt = dt_model.predict(X_test)\n",
    "\n",
    "# Model Evaluation\n",
    "accuracy = accuracy_score(y_test, y_pred_dt)\n",
    "precision = precision_score(y_test, y_pred_dt)\n",
    "recall = recall_score(y_test, y_pred_dt)\n",
    "f1 = f1_score(y_test, y_pred_dt)\n",
    "print(\"Accuracy:\", accuracy)\n",
    "print(\"Precision:\", precision)\n",
    "print(\"Recall:\", recall)\n",
    "print(\"F1 Score:\", f1)\n",
    "\n",
    "# Generate a confusion matrix\n",
    "disp = ConfusionMatrixDisplay.from_estimator(estimator=dt_model, X=X_test, y =y_test)\n",
    "plt.savefig(\"1_dt_noaugm.png\")\n",
    "\n",
    "plt.show()"
   ]
  },
  {
   "cell_type": "code",
   "execution_count": 58,
   "metadata": {},
   "outputs": [
    {
     "name": "stdout",
     "output_type": "stream",
     "text": [
      "Accuracy: 0.999895974201602\n",
      "Precision: 1.0\n",
      "Recall: 0.1\n",
      "F1 Score: 0.18181818181818182\n"
     ]
    },
    {
     "data": {
      "image/png": "[encoded data removed]",
      "text/plain": [
       "<Figure size 640x480 with 2 Axes>"
      ]
     },
     "metadata": {},
     "output_type": "display_data"
    }
   ],
   "source": [
    "# Create the SVM classifer \n",
    "svm_model = svm.SVC()\n",
    "svm_model = svm_model.fit(X_train,y_train)\n",
    "y_pred_svm = svm_model.predict(X_test)\n",
    "\n",
    "# Model Evaluation\n",
    "accuracy = accuracy_score(y_test, y_pred_svm)\n",
    "precision = precision_score(y_test, y_pred_svm)\n",
    "recall = recall_score(y_test, y_pred_svm)\n",
    "f1 = f1_score(y_test, y_pred_svm)\n",
    "print(\"Accuracy:\", accuracy)\n",
    "print(\"Precision:\", precision)\n",
    "print(\"Recall:\", recall)\n",
    "print(\"F1 Score:\", f1)\n",
    "\n",
    "disp = ConfusionMatrixDisplay.from_estimator(estimator=svm_model, X=X_test, y =y_test)\n",
    "plt.savefig(\"2_svm_noaugm.png\")\n",
    "\n",
    "plt.show()"
   ]
  },
  {
   "cell_type": "markdown",
   "metadata": {},
   "source": [
    "In the code below use create the objects \"sme\" and \"adasyn\" that comprise the *SMOTE-ENN* and *ADASYN* augmentation alogorithms respectively. Next, we create the variables \"X_augmented_smoteenn\" and \"y_augmented_smoteenn\" with the features array and the labels of the training dataset respectively. We do the same for the *ADASYN* algorithm by creating the variables \"X_augmented_ada\" and \"y_augmented_ada\"."
   ]
  },
  {
   "cell_type": "code",
   "execution_count": 59,
   "metadata": {},
   "outputs": [
    {
     "name": "stdout",
     "output_type": "stream",
     "text": [
      "Total data before augmentation Counter({0: 288359, 1: 36})\n",
      "Total Data after SMOTEENN augmentation Counter({1: 201850, 0: 201812})\n",
      "Total Data after ADASYN augmentation Counter({1: 201850, 0: 201812})\n"
     ]
    }
   ],
   "source": [
    "# Data augmentation technique one: SMOTEENN\n",
    "print('Total data before augmentation %s' % Counter(y_original))\n",
    "sme = SMOTEENN()\n",
    "X_augmented_smoteenn, y_augmented_smoteenn = sme.fit_resample(X_train, y_train)\n",
    "print('Total Data after SMOTEENN augmentation %s' % Counter(y_augmented_smoteenn))\n",
    "\n",
    "# Data augmentation technique one: ADASYN\n",
    "adasyn = ADASYN()\n",
    "X_augmented_ada, y_augmented_ada = adasyn.fit_resample(X_train, y_train)\n",
    "print('Total Data after ADASYN augmentation %s' % Counter(y_augmented_smoteenn))"
   ]
  },
  {
   "cell_type": "code",
   "execution_count": 60,
   "metadata": {},
   "outputs": [
    {
     "name": "stdout",
     "output_type": "stream",
     "text": [
      "Accuracy: 0.9999884415779557\n",
      "Precision: 0.9090909090909091\n",
      "Recall: 1.0\n",
      "F1 Score: 0.9523809523809523\n"
     ]
    },
    {
     "data": {
      "image/png": "[encoded data removed]",
      "text/plain": [
       "<Figure size 640x480 with 2 Axes>"
      ]
     },
     "metadata": {},
     "output_type": "display_data"
    }
   ],
   "source": [
    "# Evaluate the performance of decision tree classifier on the augmented SMOTEENN dataset\n",
    "dt_model_smoteenn = DecisionTreeClassifier()\n",
    "dt_model_smoteenn = dt_model_smoteenn.fit(X_augmented_smoteenn,y_augmented_smoteenn)\n",
    "y_pred_dt = dt_model_smoteenn.predict(X_test)\n",
    "\n",
    "# Model Evaluation\n",
    "accuracy = accuracy_score(y_test, y_pred_dt)\n",
    "precision = precision_score(y_test, y_pred_dt)\n",
    "recall = recall_score(y_test, y_pred_dt)\n",
    "f1 = f1_score(y_test, y_pred_dt)\n",
    "print(\"Accuracy:\", accuracy)\n",
    "print(\"Precision:\", precision)\n",
    "print(\"Recall:\", recall)\n",
    "print(\"F1 Score:\", f1)\n",
    "\n",
    "disp = ConfusionMatrixDisplay.from_estimator(estimator=dt_model_smoteenn, X=X_test, y =y_test)\n",
    "plt.savefig(\"3_dt_smoteenn.png\")\n",
    "\n",
    "plt.show()"
   ]
  },
  {
   "cell_type": "code",
   "execution_count": 61,
   "metadata": {},
   "outputs": [
    {
     "name": "stdout",
     "output_type": "stream",
     "text": [
      "Accuracy: 1.0\n",
      "Precision: 1.0\n",
      "Recall: 1.0\n",
      "F1 Score: 1.0\n"
     ]
    },
    {
     "data": {
      "image/png": "[encoded data removed]",
      "text/plain": [
       "<Figure size 640x480 with 2 Axes>"
      ]
     },
     "metadata": {},
     "output_type": "display_data"
    }
   ],
   "source": [
    "# Evaluate the performance of decision tree classifier on the augmented ADASYN dataset\n",
    "dt_model_ada = DecisionTreeClassifier()\n",
    "dt_model_ada = dt_model_ada.fit(X_augmented_ada,y_augmented_ada)\n",
    "y_pred_dt = dt_model_ada.predict(X_test)\n",
    "\n",
    "# Model Evaluation\n",
    "accuracy = accuracy_score(y_test, y_pred_dt)\n",
    "precision = precision_score(y_test, y_pred_dt)\n",
    "recall = recall_score(y_test, y_pred_dt)\n",
    "f1 = f1_score(y_test, y_pred_dt)\n",
    "print(\"Accuracy:\", accuracy)\n",
    "print(\"Precision:\", precision)\n",
    "print(\"Recall:\", recall)\n",
    "print(\"F1 Score:\", f1)\n",
    "\n",
    "disp = ConfusionMatrixDisplay.from_estimator(estimator=dt_model_ada, X=X_test, y =y_test)\n",
    "plt.savefig(\"4_dt_ada.png\")\n",
    "\n",
    "plt.show()"
   ]
  },
  {
   "cell_type": "code",
   "execution_count": 62,
   "metadata": {},
   "outputs": [
    {
     "name": "stdout",
     "output_type": "stream",
     "text": [
      "Accuracy: 0.998705456731047\n",
      "Precision: 0.05263157894736842\n",
      "Recall: 0.6\n",
      "F1 Score: 0.09677419354838708\n"
     ]
    },
    {
     "data": {
      "image/png": "[encoded data removed]",
      "text/plain": [
       "<Figure size 640x480 with 2 Axes>"
      ]
     },
     "metadata": {},
     "output_type": "display_data"
    }
   ],
   "source": [
    "# Evaluate the performance of svm classifier on the augmented SMOTEENN dataset\n",
    "svm_model_smoteenn = svm.SVC()\n",
    "svm_model_smoteenn = svm_model_smoteenn.fit(X_augmented_smoteenn,y_augmented_smoteenn)\n",
    "y_pred_svm = svm_model_smoteenn.predict(X_test)\n",
    "\n",
    "# Model Evaluation\n",
    "accuracy = accuracy_score(y_test, y_pred_svm)\n",
    "precision = precision_score(y_test, y_pred_svm)\n",
    "recall = recall_score(y_test, y_pred_svm)\n",
    "f1 = f1_score(y_test, y_pred_svm)\n",
    "print(\"Accuracy:\", accuracy)\n",
    "print(\"Precision:\", precision)\n",
    "print(\"Recall:\", recall)\n",
    "print(\"F1 Score:\", f1)\n",
    "\n",
    "disp = ConfusionMatrixDisplay.from_estimator(estimator=svm_model_smoteenn, X=X_test, y =y_test)\n",
    "plt.savefig(\"5_svm_smoteenn.png\")\n",
    "\n",
    "plt.show()"
   ]
  },
  {
   "cell_type": "code",
   "execution_count": 63,
   "metadata": {},
   "outputs": [
    {
     "name": "stdout",
     "output_type": "stream",
     "text": [
      "Accuracy: 0.9985320804003838\n",
      "Precision: 0.046511627906976744\n",
      "Recall: 0.6\n",
      "F1 Score: 0.08633093525179857\n"
     ]
    },
    {
     "data": {
      "image/png": "[encoded data removed]",
      "text/plain": [
       "<Figure size 640x480 with 2 Axes>"
      ]
     },
     "metadata": {},
     "output_type": "display_data"
    }
   ],
   "source": [
    "# Evaluate the performance of svm classifier on the augmented ADASYN dataset\n",
    "svm_model_ada = svm.SVC()\n",
    "svm_model_ada = svm_model_ada.fit(X_augmented_ada,y_augmented_ada)\n",
    "y_pred_svm = svm_model_ada.predict(X_test)\n",
    "\n",
    "# Model Evaluation\n",
    "accuracy = accuracy_score(y_test, y_pred_svm)\n",
    "precision = precision_score(y_test, y_pred_svm)\n",
    "recall = recall_score(y_test, y_pred_svm)\n",
    "f1 = f1_score(y_test, y_pred_svm)\n",
    "print(\"Accuracy:\", accuracy)\n",
    "print(\"Precision:\", precision)\n",
    "print(\"Recall:\", recall)\n",
    "print(\"F1 Score:\", f1)\n",
    "\n",
    "disp = ConfusionMatrixDisplay.from_estimator(estimator=svm_model_ada, X=X_test, y =y_test)\n",
    "plt.savefig(\"6_svm_ada.png\")\n",
    "\n",
    "plt.show()"
   ]
  }
 ],
 "metadata": {
  "kernelspec": {
   "display_name": "env1",
   "language": "python",
   "name": "python3"
  },
  "language_info": {
   "codemirror_mode": {
    "name": "ipython",
    "version": 3
   },
   "file_extension": ".py",
   "mimetype": "text/x-python",
   "name": "python",
   "nbconvert_exporter": "python",
   "pygments_lexer": "ipython3",
   "version": "3.11.5"
  }
 },
 "nbformat": 4,
 "nbformat_minor": 2
}
