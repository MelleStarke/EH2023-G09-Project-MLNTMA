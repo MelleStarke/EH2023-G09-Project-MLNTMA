{
 "cells": [
  {
   "cell_type": "markdown",
   "metadata": {},
   "source": [
    "# Deep Learning"
   ]
  },
  {
   "cell_type": "markdown",
   "metadata": {},
   "source": [
    "We follow the previous steps of preprocessing. This time, we use the following:\n",
    "\n",
    "#### Preprocessing\n",
    "- Data augmentation\n",
    "  - Synthetic Minority Oversampling and Edited Nearest Neighbours (SMOTEENN)\n",
    "  - Oversample using Adaptive Synthetic (ADASYN)\n",
    "\n",
    "#### Algorithms\n",
    "- CNN + RNN"
   ]
  },
  {
   "cell_type": "code",
   "execution_count": 2,
   "metadata": {},
   "outputs": [],
   "source": [
    "### Suppress warnings in tensorflow output\n",
    "import warnings\n",
    "from tensorflow import get_logger\n",
    "warnings.filterwarnings('ignore')\n",
    "import os\n",
    "os.environ['TF_CPP_MIN_LOG_LEVEL'] = '3'\n",
    "get_logger().setLevel('ERROR')\n",
    "###\n",
    "import pandas as pd\n",
    "import matplotlib.pyplot as plt\n",
    "import numpy as np\n",
    "from sklearn.linear_model import RidgeCV\n",
    "from sklearn.preprocessing import MinMaxScaler\n",
    "from sklearn.metrics import accuracy_score, precision_score, recall_score, f1_score, classification_report\n",
    "from collections import Counter\n",
    "from imblearn.combine import SMOTEENN\n",
    "from imblearn.over_sampling import ADASYN\n",
    "from sklearn import svm\n",
    "from sklearn.model_selection import train_test_split\n",
    "from tensorflow.keras.models import Sequential\n",
    "from tensorflow.keras.layers import SimpleRNN, Dense, Embedding, Dropout, Conv1D, MaxPooling1D, Flatten\n",
    "from sklearn.metrics import confusion_matrix, ConfusionMatrixDisplay\n"
   ]
  },
  {
   "cell_type": "code",
   "execution_count": null,
   "metadata": {},
   "outputs": [],
   "source": [
    "df = pd.read_csv('../../../../Thursday-WorkingHours-Afternoon-Infilteration.pcap_ISCX.csv')"
   ]
  },
  {
   "cell_type": "code",
   "execution_count": null,
   "metadata": {},
   "outputs": [],
   "source": [
    "# Inspect all labels in the dataset\n",
    "counts = df[' Label'].value_counts()\n",
    "print(counts)"
   ]
  },
  {
   "cell_type": "code",
   "execution_count": null,
   "metadata": {},
   "outputs": [],
   "source": [
    "# Preprocessing: Remove all rows with NaN or inf values\n",
    "\n",
    "# Count rows with at least one NaN value\n",
    "nan_rows_indices = df.index[df.isna().any(axis=1)].tolist()\n",
    "nan_rows_count = len(nan_rows_indices)\n",
    "print(\"Number of rows with at least one NaN value:\", nan_rows_count)\n",
    "\n",
    "# Exclude last column because it has strings and the check for inf numbers throws an error\n",
    "X = df.iloc[:, 0:-1]\n",
    "\n",
    "# Count rows with at least one infinite value\n",
    "inf_rows_indices = X.index[np.isinf(X).any(axis=1)].tolist()\n",
    "inf_rows_count = len(inf_rows_indices)\n",
    "print(\"Number of rows with at least one inf value:\", inf_rows_count)\n",
    "\n",
    "# Combine indices of rows with NaN or inf values\n",
    "rows_to_drop = set(nan_rows_indices + inf_rows_indices)\n",
    "\n",
    "# Drop rows with at least one NaN or inf value\n",
    "df2 = df.drop(index=rows_to_drop)"
   ]
  },
  {
   "cell_type": "code",
   "execution_count": null,
   "metadata": {},
   "outputs": [],
   "source": [
    "# Give all samples with a non BENIGN label the label MALICIOUS\n",
    "df2[' Label'] = df2[' Label'].where(df2[' Label'] == 'BENIGN', 'MALICIOUS')\n",
    "\n",
    "label_counts = df2[' Label'].value_counts()\n",
    "print(label_counts)"
   ]
  },
  {
   "cell_type": "code",
   "execution_count": null,
   "metadata": {},
   "outputs": [],
   "source": [
    "# Make the labels numerical\n",
    "df2[' Label'] = df2[' Label'].replace({'BENIGN': 0, 'MALICIOUS': 1})"
   ]
  },
  {
   "cell_type": "code",
   "execution_count": null,
   "metadata": {},
   "outputs": [],
   "source": [
    "# Split dataset into features and labels\n",
    "X_original = df2.iloc[:,0:-1]\n",
    "y_original = df2.iloc[:, -1]"
   ]
  },
  {
   "cell_type": "code",
   "execution_count": null,
   "metadata": {},
   "outputs": [],
   "source": [
    "# Transform the features to only have a range [0, 1]. Note that the scaled data are now a numpy array, not a df\n",
    "scaler = MinMaxScaler()\n",
    "X_scaled = scaler.fit_transform(X_original)\n",
    "\n",
    "# Print the range of values in the scaled dataframe\n",
    "# print(X_scaled.describe().loc[['min', 'max']])\n",
    "print(X_scaled.max(axis=None))\n",
    "print(X_scaled.min(axis=None))"
   ]
  },
  {
   "cell_type": "code",
   "execution_count": null,
   "metadata": {},
   "outputs": [],
   "source": [
    "# Print the count of 0s and 1s. It should match the numbers for 'MALICIOUS' and 'BENIGN'\n",
    "unique_values, counts = np.unique(y_original, return_counts=True)\n",
    "\n",
    "for value, count in zip(unique_values, counts):\n",
    "    print(f\"Value: {value}, Count: {count}\")"
   ]
  },
  {
   "cell_type": "markdown",
   "metadata": {},
   "source": [
    "We can see the dataset is imbalanced. Hence, we use the data augmentation techniques"
   ]
  },
  {
   "cell_type": "code",
   "execution_count": null,
   "metadata": {},
   "outputs": [],
   "source": [
    "benign_indices = y_original.index[y_original == 1].tolist()\n",
    "print(len(y_original[benign_indices]))"
   ]
  },
  {
   "cell_type": "code",
   "execution_count": null,
   "metadata": {},
   "outputs": [],
   "source": [
    "len(y_original)"
   ]
  },
  {
   "cell_type": "code",
   "execution_count": null,
   "metadata": {},
   "outputs": [],
   "source": [
    "X_train, X_test, y_train, y_test = train_test_split(X_scaled, y_original, random_state=42, test_size=0.2, shuffle=False)\n",
    "print(len(X_scaled))\n",
    "print(len(y_original))\n",
    "\n",
    "print(len(X_train))\n",
    "print(len(y_train))\n",
    "\n",
    "print(len(X_test))\n",
    "print(len(y_test))"
   ]
  },
  {
   "cell_type": "code",
   "execution_count": null,
   "metadata": {},
   "outputs": [],
   "source": [
    "# # Data augmentation technique one: SMOTEENN\n",
    "# print('Total data before augmentation %s' % Counter(y_original))\n",
    "# sme = SMOTEENN()\n",
    "# X_augmented_smoteenn, y_augmented_smoteenn = sme.fit_resample(X_train, y_train)\n",
    "# print('Total Data after SMOTEENN augmentation %s' % Counter(y_augmented_smoteenn))\n",
    "\n",
    "# # Data augmentation technique one: ADASYN\n",
    "# adasyn = ADASYN()\n",
    "# X_augmented_ada, y_augmented_ada = adasyn.fit_resample(X_train, y_train)\n",
    "# print('Total Data after ADASYN augmentation %s' % Counter(y_augmented_smoteenn))\n"
   ]
  },
  {
   "cell_type": "code",
   "execution_count": null,
   "metadata": {},
   "outputs": [],
   "source": [
    "# Build the RNN model\n",
    "# base_model = Sequential(\n",
    "#     [\n",
    "#         Conv1D(32, kernel_size=5, activation='relu', input_shape=(X_train.shape[1], 1)),\n",
    "#         MaxPooling1D(pool_size=4),\n",
    "#         Conv1D(16, kernel_size=3, activation='relu'),\n",
    "#         MaxPooling1D(pool_size=2),\n",
    "#         SimpleRNN(100, activation='relu'),\n",
    "#         Dropout(0.5),\n",
    "#         Dense(1, activation='sigmoid')\n",
    "#     ]\n",
    "# )\n",
    "\n",
    "\n",
    "\n",
    "# base_model.compile(optimizer='adam', loss='binary_crossentropy', metrics=['accuracy'])\n",
    "\n",
    "# # Train the model\n",
    "# base_model.fit(X_train, y_train, epochs=5, batch_size=32, validation_split=0.2)\n",
    "\n",
    "# # Evaluate the model\n",
    "# base_y_pred_prob = base_model.predict(X_test)\n",
    "# base_y_pred = (base_y_pred_prob > 0.5).astype(int)\n",
    "\n",
    "# accuracy = accuracy_score(y_test, base_y_pred)\n",
    "# precision = precision_score(y_test, base_y_pred)\n",
    "# recall = recall_score(y_test, base_y_pred)\n",
    "# f1 = f1_score(y_test, base_y_pred)\n",
    "\n",
    "# print(\"Accuracy:\", accuracy)\n",
    "# print(\"Precision:\", precision)\n",
    "# print(\"Recall:\", recall)\n",
    "# print(\"F1 Score:\", f1)\n",
    "\n",
    "# print(classification_report(y_test, base_y_pred, target_names=[\"Begign\",\"Malicious\"]))\n",
    "# disp = ConfusionMatrixDisplay.from_predictions(y_test, base_y_pred)\n",
    "# plt.show()\n"
   ]
  },
  {
   "cell_type": "code",
   "execution_count": null,
   "metadata": {},
   "outputs": [],
   "source": [
    "print(f'Total data before SMOTEENN augmentation {Counter(y_original)}')\n",
    "sme = SMOTEENN()\n",
    "X_augmented_smoteenn, y_augmented_smoteenn = sme.fit_resample(X_train, y_train)\n",
    "print(f'Total data after SMOTEENN augmentation {Counter(y_augmented_smoteenn)}')\n",
    "\n",
    "# Data augmentation technique one: ADASYN\n",
    "adasyn = ADASYN()\n",
    "X_augmented_ada, y_augmented_ada = adasyn.fit_resample(X_train, y_train)\n",
    "print(f'Total data after ADASYN augmentation {Counter(y_augmented_ada)}')"
   ]
  },
  {
   "cell_type": "code",
   "execution_count": null,
   "metadata": {},
   "outputs": [],
   "source": [
    "# Build the RNN model\n",
    "sme_model = Sequential(\n",
    "    [\n",
    "        Conv1D(32, kernel_size=5, activation='relu', input_shape=(X_train.shape[1], 1)),\n",
    "        # MaxPooling1D(pool_size=4),\n",
    "        # Conv1D(16, kernel_size=3, activation='relu'),\n",
    "        # MaxPooling1D(pool_size=2),\n",
    "        SimpleRNN(100, activation='relu'),\n",
    "        Dropout(0.5),\n",
    "        Dense(1, activation='sigmoid')\n",
    "    ]\n",
    ")\n",
    "\n",
    "ada_model = Sequential(\n",
    "    [\n",
    "        Conv1D(32, kernel_size=5, activation='relu', input_shape=(X_train.shape[1], 1)),\n",
    "        # MaxPooling1D(pool_size=4),\n",
    "        # Conv1D(16, kernel_size=3, activation='relu'),\n",
    "        # MaxPooling1D(pool_size=2),\n",
    "        SimpleRNN(100, activation='relu'),\n",
    "        Dropout(0.5),\n",
    "        Dense(1, activation='sigmoid')\n",
    "    ]\n",
    ")\n",
    "# Compile the models\n",
    "sme_model.compile(optimizer='adam', loss='binary_crossentropy', metrics=['accuracy'])\n",
    "ada_model.compile(optimizer='adam', loss='binary_crossentropy', metrics=['accuracy'])\n",
    "\n",
    "# # Evaluate the models\n",
    "# sme_y_pred_prob = sme_model.predict(X_test)\n",
    "# sme_y_pred = (sme_y_pred_prob > 0.5).astype(int)\n",
    "\n",
    "# accuracy = accuracy_score(y_test, sme_y_pred)\n",
    "# precision = precision_score(y_test, sme_y_pred)\n",
    "# recall = recall_score(y_test, sme_y_pred)\n",
    "# f1 = f1_score(y_test, sme_y_pred)\n",
    "\n",
    "# print(\"Accuracy:\", accuracy)\n",
    "# print(\"Precision:\", precision)\n",
    "# print(\"Recall:\", recall)\n",
    "# print(\"F1 Score:\", f1)\n",
    "\n",
    "# print(classification_report(y_test, base_y_pred, target_names=[\"Begign\",\"Malicious\"]))\n",
    "# disp = ConfusionMatrixDisplay.from_predictions(y_test, base_y_pred)\n",
    "# plt.show()\n"
   ]
  },
  {
   "cell_type": "code",
   "execution_count": null,
   "metadata": {},
   "outputs": [],
   "source": [
    "# Train the model\n",
    "sme_model.fit(X_train, y_train, epochs=3, batch_size=32, validation_split=0.2)\n",
    "sme_y_pred_prob = sme_model.predict(X_test)\n",
    "sme_y_pred = (sme_y_pred_prob > 0.5).astype(int)\n",
    "\n",
    "accuracy = accuracy_score(y_test, sme_y_pred)\n",
    "precision = precision_score(y_test, sme_y_pred)\n",
    "recall = recall_score(y_test, sme_y_pred)\n",
    "f1 = f1_score(y_test, sme_y_pred)\n",
    "\n",
    "print(\"Accuracy:\", accuracy)\n",
    "print(\"Precision:\", precision)\n",
    "print(\"Recall:\", recall)\n",
    "print(\"F1 Score:\", f1)\n",
    "\n",
    "print(classification_report(y_test, sme_y_pred, target_names=[\"Begign\",\"Malicious\"]))\n",
    "disp = ConfusionMatrixDisplay.from_predictions(y_test, sme_y_pred)\n",
    "plt.show()"
   ]
  },
  {
   "cell_type": "code",
   "execution_count": null,
   "metadata": {},
   "outputs": [],
   "source": [
    "# Train the model\n",
    "ada_model.fit(X_train, y_train, epochs=3, batch_size=32, validation_split=0.2)\n",
    "ada_y_pred_prob = sme_model.predict(X_test)\n",
    "ada_y_pred = (sme_y_pred_prob > 0.5).astype(int)\n",
    "\n",
    "accuracy = accuracy_score(y_test, ada_y_pred)\n",
    "precision = precision_score(y_test, ada_y_pred)\n",
    "recall = recall_score(y_test, ada_y_pred)\n",
    "f1 = f1_score(y_test, ada_y_pred)\n",
    "\n",
    "print(\"Accuracy:\", accuracy)\n",
    "print(\"Precision:\", precision)\n",
    "print(\"Recall:\", recall)\n",
    "print(\"F1 Score:\", f1)\n",
    "\n",
    "print(classification_report(y_test, ada_y_pred, target_names=[\"Begign\",\"Malicious\"]))\n",
    "disp = ConfusionMatrixDisplay.from_predictions(y_test, ada_y_pred)\n",
    "plt.show()"
   ]
  },
  {
   "cell_type": "code",
   "execution_count": null,
   "metadata": {},
   "outputs": [],
   "source": []
  },
  {
   "cell_type": "code",
   "execution_count": null,
   "metadata": {},
   "outputs": [],
   "source": [
    "# Select best model and perform feature selection on it to check if it improves performance"
   ]
  },
  {
   "cell_type": "code",
   "execution_count": null,
   "metadata": {},
   "outputs": [],
   "source": [
    "# Hyperparameter tuning?"
   ]
  }
 ],
 "metadata": {
  "kernelspec": {
   "display_name": "Python 3 (ipykernel)",
   "language": "python",
   "name": "python3"
  },
  "language_info": {
   "codemirror_mode": {
    "name": "ipython",
    "version": 3
   },
   "file_extension": ".py",
   "mimetype": "text/x-python",
   "name": "python",
   "nbconvert_exporter": "python",
   "pygments_lexer": "ipython3",
   "version": "3.10.10"
  }
 },
 "nbformat": 4,
 "nbformat_minor": 4
}
