{
 "cells": [
  {
   "cell_type": "code",
   "execution_count": 1,
   "metadata": {},
   "outputs": [],
   "source": [
    "import pandas as pd\n",
    "import matplotlib.pyplot as plt\n",
    "import numpy as np\n",
    "from sklearn.linear_model import RidgeCV\n",
    "# from sklearn.datasets import make_regression\n",
    "# from sklearn.preprocessing import StandardScaler\n",
    "from sklearn.preprocessing import MinMaxScaler\n",
    "# from sklearn.preprocessing import LabelEncoder  \n",
    "\n",
    "from sklearn.metrics import confusion_matrix, ConfusionMatrixDisplay\n",
    "from sklearn.tree import DecisionTreeClassifier\n",
    "# from sklearn.model_selection import train_test_split \n",
    "from sklearn import metrics \n",
    "from collections import Counter\n",
    "from imblearn.combine import SMOTEENN\n",
    "from imblearn.over_sampling import ADASYN\n",
    "from sklearn import svm\n",
    "from sklearn.model_selection import train_test_split\n",
    "import warnings\n",
    "warnings.filterwarnings('ignore')\n",
    "# import random"
   ]
  },
  {
   "cell_type": "code",
   "execution_count": 2,
   "metadata": {},
   "outputs": [],
   "source": [
    "df = pd.read_csv('../../../../Thursday-WorkingHours-Afternoon-Infilteration.pcap_ISCX.csv')"
   ]
  },
  {
   "cell_type": "code",
   "execution_count": 3,
   "metadata": {},
   "outputs": [
    {
     "name": "stdout",
     "output_type": "stream",
     "text": [
      " Label\n",
      "BENIGN          288566\n",
      "Infiltration        36\n",
      "Name: count, dtype: int64\n"
     ]
    }
   ],
   "source": [
    "# Inspect all labels in the dataset\n",
    "counts = df[' Label'].value_counts()\n",
    "print(counts)"
   ]
  },
  {
   "cell_type": "code",
   "execution_count": 4,
   "metadata": {},
   "outputs": [
    {
     "name": "stdout",
     "output_type": "stream",
     "text": [
      "Number of rows with at least one NaN value: 18\n",
      "Number of rows with at least one inf value: 207\n"
     ]
    }
   ],
   "source": [
    "# Preprocessing: Remove all rows with NaN or inf values\n",
    "\n",
    "# Count rows with at least one NaN value\n",
    "nan_rows_indices = df.index[df.isna().any(axis=1)].tolist()\n",
    "nan_rows_count = len(nan_rows_indices)\n",
    "print(\"Number of rows with at least one NaN value:\", nan_rows_count)\n",
    "\n",
    "# Exclude last column because it has strings and the check for inf numbers throws an error\n",
    "X = df.iloc[:, 0:-1]\n",
    "\n",
    "# Count rows with at least one infinite value\n",
    "inf_rows_indices = X.index[np.isinf(X).any(axis=1)].tolist()\n",
    "inf_rows_count = len(inf_rows_indices)\n",
    "print(\"Number of rows with at least one inf value:\", inf_rows_count)\n",
    "\n",
    "# Combine indices of rows with NaN or inf values\n",
    "rows_to_drop = set(nan_rows_indices + inf_rows_indices)\n",
    "\n",
    "# Drop rows with at least one NaN or inf value\n",
    "df2 = df.drop(index=rows_to_drop)"
   ]
  },
  {
   "cell_type": "code",
   "execution_count": 5,
   "metadata": {},
   "outputs": [
    {
     "name": "stdout",
     "output_type": "stream",
     "text": [
      " Label\n",
      "BENIGN       288359\n",
      "MALICIOUS        36\n",
      "Name: count, dtype: int64\n"
     ]
    }
   ],
   "source": [
    "# Give all samples with a non BENIGN label the label MALICIOUS\n",
    "df2[' Label'] = df2[' Label'].where(df2[' Label'] == 'BENIGN', 'MALICIOUS')\n",
    "\n",
    "label_counts = df2[' Label'].value_counts()\n",
    "print(label_counts)"
   ]
  },
  {
   "cell_type": "code",
   "execution_count": 6,
   "metadata": {},
   "outputs": [],
   "source": [
    "# Make the labels numerical\n",
    "df2[' Label'] = df2[' Label'].replace({'BENIGN': 0, 'MALICIOUS': 1})"
   ]
  },
  {
   "cell_type": "code",
   "execution_count": 7,
   "metadata": {},
   "outputs": [],
   "source": [
    "# Split dataset into features and labels\n",
    "X_original = df2.iloc[:,0:-1]\n",
    "y_original = df2.iloc[:, -1]"
   ]
  },
  {
   "cell_type": "code",
   "execution_count": 8,
   "metadata": {},
   "outputs": [
    {
     "name": "stdout",
     "output_type": "stream",
     "text": [
      "1.0\n",
      "0.0\n"
     ]
    }
   ],
   "source": [
    "# Transform the features to only have a range [0, 1]. Note that the scaled data are now a numpy array, not a df\n",
    "scaler = MinMaxScaler()\n",
    "X_scaled = scaler.fit_transform(X_original)\n",
    "\n",
    "# Print the range of values in the scaled dataframe\n",
    "# print(X_scaled.describe().loc[['min', 'max']])\n",
    "print(X_scaled.max(axis=None))\n",
    "print(X_scaled.min(axis=None))"
   ]
  },
  {
   "cell_type": "code",
   "execution_count": 9,
   "metadata": {},
   "outputs": [
    {
     "name": "stdout",
     "output_type": "stream",
     "text": [
      "Value: 0, Count: 288359\n",
      "Value: 1, Count: 36\n"
     ]
    }
   ],
   "source": [
    "# Print the count of 0s and 1s. It should match the numbers for 'MALICIOUS' and 'BENIGN'\n",
    "unique_values, counts = np.unique(y_original, return_counts=True)\n",
    "\n",
    "for value, count in zip(unique_values, counts):\n",
    "    print(f\"Value: {value}, Count: {count}\")"
   ]
  },
  {
   "cell_type": "code",
   "execution_count": 10,
   "metadata": {},
   "outputs": [
    {
     "name": "stdout",
     "output_type": "stream",
     "text": [
      "36\n"
     ]
    }
   ],
   "source": [
    "benign_indices = y_original.index[y_original == 1].tolist()\n",
    "print(len(y_original[benign_indices]))"
   ]
  },
  {
   "cell_type": "code",
   "execution_count": 11,
   "metadata": {},
   "outputs": [
    {
     "data": {
      "text/plain": [
       "288395"
      ]
     },
     "execution_count": 11,
     "metadata": {},
     "output_type": "execute_result"
    }
   ],
   "source": [
    "len(y_original)"
   ]
  },
  {
   "cell_type": "code",
   "execution_count": 12,
   "metadata": {},
   "outputs": [],
   "source": [
    "# Function to split dataset into training and testing data\n",
    "def data_split(X=X_scaled, y=y_original, test_ratio=0.3):\n",
    "\n",
    "    # X is already an array from when we normalized the numbers between 0 and 1.\n",
    "    # Convert y to an array too.\n",
    "    y = y.to_numpy()\n",
    "\n",
    "    # Extract indices of each of the two classes in the dataframe \n",
    "    benign_indices = np.where(y == 0)[0]\n",
    "    malicious_indices = np.where(y == 1)[0]\n",
    "\n",
    "    # Shuffle array and sample the indices according to the specified test_ratio\n",
    "    np.random.shuffle(benign_indices)\n",
    "    np.random.shuffle(malicious_indices)\n",
    "\n",
    "    index_benign = int(test_ratio * len(benign_indices))\n",
    "    index_malicious = int(test_ratio * len(malicious_indices))\n",
    "\n",
    "    benign_indices_test = benign_indices[:index_benign]\n",
    "    malicious_indices_test = malicious_indices[:index_malicious]\n",
    "\n",
    "    benign_indices_train = benign_indices[index_benign:]\n",
    "    malicious_indices_train = malicious_indices[index_malicious:]\n",
    "\n",
    "    X_train = X[np.concatenate((benign_indices_train, malicious_indices_train)), :]\n",
    "    X_test = X[np.concatenate((benign_indices_test, malicious_indices_test)), :]\n",
    "    y_train = y[np.concatenate((benign_indices_train, malicious_indices_train))]\n",
    "    y_test = y[np.concatenate((benign_indices_test, malicious_indices_test))]\n",
    "\n",
    "    return X_train, X_test, y_train, y_test"
   ]
  },
  {
   "cell_type": "code",
   "execution_count": 13,
   "metadata": {},
   "outputs": [
    {
     "data": {
      "image/png": "[encoded data removed]",
      "text/plain": [
       "<Figure size 640x480 with 1 Axes>"
      ]
     },
     "metadata": {},
     "output_type": "display_data"
    }
   ],
   "source": [
    "# Feature selection\n",
    "\n",
    "# Fit RidgeCV model\n",
    "ridge = RidgeCV(alphas=np.logspace(-6, 6, num=5)).fit(X_scaled, y_original)\n",
    "\n",
    "# Plot feature importances via coefficients\n",
    "importance = np.abs(ridge.coef_)\n",
    "# feature_names = [f\"Feature_{i}\" for i in range(X.shape[1])]\n",
    "features = [i for i in range(X.shape[1])]\n",
    "plt.bar(height=importance, x=features)\n",
    "plt.title(\"Feature importances as indicated by the computed coefficients\")\n",
    "\n",
    "plt.show()"
   ]
  },
  {
   "cell_type": "code",
   "execution_count": 14,
   "metadata": {},
   "outputs": [
    {
     "name": "stdout",
     "output_type": "stream",
     "text": [
      "<class 'numpy.ndarray'>\n"
     ]
    }
   ],
   "source": [
    "print(type(importance))"
   ]
  },
  {
   "cell_type": "code",
   "execution_count": 15,
   "metadata": {},
   "outputs": [
    {
     "data": {
      "text/plain": [
       "'\\n# Select the most important features\\nthreshold = 0.001\\nselected_features = []\\n\\n# Set a threshold above which we deem a feature important\\nfor feature, importance_score in zip(features, importance):\\n    if importance_score > threshold:\\n        selected_features.append(feature)\\n\\n'"
      ]
     },
     "execution_count": 15,
     "metadata": {},
     "output_type": "execute_result"
    }
   ],
   "source": [
    "\"\"\"\n",
    "# Select the most important features\n",
    "threshold = 0.001\n",
    "selected_features = []\n",
    "\n",
    "# Set a threshold above which we deem a feature important\n",
    "for feature, importance_score in zip(features, importance):\n",
    "    if importance_score > threshold:\n",
    "        selected_features.append(feature)\n",
    "\n",
    "\"\"\""
   ]
  },
  {
   "cell_type": "code",
   "execution_count": 16,
   "metadata": {},
   "outputs": [
    {
     "name": "stdout",
     "output_type": "stream",
     "text": [
      "288395\n",
      "288395\n",
      "230716\n",
      "230716\n",
      "57679\n",
      "57679\n"
     ]
    }
   ],
   "source": [
    "# X_train, X_test, y_train, y_test = data_split(X_scaled, y_original) \n",
    "X_train, X_test, y_train, y_test = train_test_split(X_scaled, y_original, random_state=42, test_size=0.2)\n",
    "print(len(X_scaled))\n",
    "print(len(y_original))\n",
    "\n",
    "print(len(X_train))\n",
    "print(len(y_train))\n",
    "\n",
    "print(len(X_test))\n",
    "print(len(y_test))"
   ]
  },
  {
   "cell_type": "code",
   "execution_count": 17,
   "metadata": {},
   "outputs": [],
   "source": [
    "# # Data augmentation technique one: SMOTEENN\n",
    "# print('Total data before augmentation %s' % Counter(y_original))\n",
    "# sme = SMOTEENN()\n",
    "# X_augmented_smoteenn, y_augmented_smoteenn = sme.fit_resample(X_train, y_train)\n",
    "# print('Total Data after SMOTEENN augmentation %s' % Counter(y_augmented_smoteenn))\n",
    "\n",
    "# # Data augmentation technique one: ADASYN\n",
    "# adasyn = ADASYN()\n",
    "# X_augmented_ada, y_augmented_ada = adasyn.fit_resample(X_train, y_train)\n",
    "# print('Total Data after ADASYN augmentation %s' % Counter(y_augmented_smoteenn))\n"
   ]
  },
  {
   "cell_type": "code",
   "execution_count": 20,
   "metadata": {},
   "outputs": [
    {
     "name": "stdout",
     "output_type": "stream",
     "text": [
      "WARNING:tensorflow:From C:\\Users\\Aditya\\Desktop\\Ethical Hacking\\Final project\\EH2023-G09-Project-MLNTMA\\rtd_win\\lib\\site-packages\\keras\\src\\optimizers\\__init__.py:309: The name tf.train.Optimizer is deprecated. Please use tf.compat.v1.train.Optimizer instead.\n",
      "\n",
      "Epoch 1/10\n",
      "WARNING:tensorflow:From C:\\Users\\Aditya\\Desktop\\Ethical Hacking\\Final project\\EH2023-G09-Project-MLNTMA\\rtd_win\\lib\\site-packages\\keras\\src\\utils\\tf_utils.py:492: The name tf.ragged.RaggedTensorValue is deprecated. Please use tf.compat.v1.ragged.RaggedTensorValue instead.\n",
      "\n",
      "WARNING:tensorflow:From C:\\Users\\Aditya\\Desktop\\Ethical Hacking\\Final project\\EH2023-G09-Project-MLNTMA\\rtd_win\\lib\\site-packages\\keras\\src\\engine\\base_layer_utils.py:384: The name tf.executing_eagerly_outside_functions is deprecated. Please use tf.compat.v1.executing_eagerly_outside_functions instead.\n",
      "\n",
      "5768/5768 [==============================] - 26s 4ms/step - loss: 0.1430 - accuracy: 0.9998 - val_loss: 0.0016 - val_accuracy: 0.9999\n",
      "Epoch 2/10\n",
      "5768/5768 [==============================] - 26s 4ms/step - loss: 0.0029 - accuracy: 0.9999 - val_loss: 0.0017 - val_accuracy: 0.9999\n",
      "Epoch 3/10\n",
      "5768/5768 [==============================] - 27s 5ms/step - loss: 0.0068 - accuracy: 0.9999 - val_loss: 0.0053 - val_accuracy: 0.9999\n",
      "Epoch 4/10\n",
      "5768/5768 [==============================] - 27s 5ms/step - loss: 0.0065 - accuracy: 0.9999 - val_loss: 0.0011 - val_accuracy: 0.9999\n",
      "Epoch 5/10\n",
      "5768/5768 [==============================] - 26s 4ms/step - loss: 0.0027 - accuracy: 0.9999 - val_loss: 0.0013 - val_accuracy: 0.9999\n",
      "Epoch 6/10\n",
      "5768/5768 [==============================] - 26s 4ms/step - loss: 0.0073 - accuracy: 0.9999 - val_loss: 0.0153 - val_accuracy: 0.9999\n",
      "Epoch 7/10\n",
      "5768/5768 [==============================] - 26s 5ms/step - loss: 0.0022 - accuracy: 0.9999 - val_loss: 0.0011 - val_accuracy: 0.9999\n",
      "Epoch 8/10\n",
      "5768/5768 [==============================] - 26s 5ms/step - loss: 0.0014 - accuracy: 0.9999 - val_loss: 0.0257 - val_accuracy: 0.9999\n",
      "Epoch 9/10\n",
      "5768/5768 [==============================] - 26s 4ms/step - loss: 0.0023 - accuracy: 0.9999 - val_loss: 0.0010 - val_accuracy: 0.9999\n",
      "Epoch 10/10\n",
      "5768/5768 [==============================] - 27s 5ms/step - loss: 0.0014 - accuracy: 0.9999 - val_loss: 0.0010 - val_accuracy: 0.9999\n"
     ]
    },
    {
     "ename": "AttributeError",
     "evalue": "'Sequential' object has no attribute 'predict_classes'",
     "output_type": "error",
     "traceback": [
      "\u001b[1;31m---------------------------------------------------------------------------\u001b[0m",
      "\u001b[1;31mAttributeError\u001b[0m                            Traceback (most recent call last)",
      "Cell \u001b[1;32mIn[20], line 26\u001b[0m\n\u001b[0;32m     23\u001b[0m model\u001b[38;5;241m.\u001b[39mfit(X_train, y_train, epochs\u001b[38;5;241m=\u001b[39m\u001b[38;5;241m10\u001b[39m, batch_size\u001b[38;5;241m=\u001b[39m\u001b[38;5;241m32\u001b[39m, validation_split\u001b[38;5;241m=\u001b[39m\u001b[38;5;241m0.2\u001b[39m)\n\u001b[0;32m     25\u001b[0m \u001b[38;5;66;03m# Evaluate the model\u001b[39;00m\n\u001b[1;32m---> 26\u001b[0m y_pred \u001b[38;5;241m=\u001b[39m \u001b[43mmodel\u001b[49m\u001b[38;5;241;43m.\u001b[39;49m\u001b[43mpredict_classes\u001b[49m(X_test)\n\u001b[0;32m     27\u001b[0m \u001b[38;5;28mprint\u001b[39m(classification_report(y_test, y_pred, target_names\u001b[38;5;241m=\u001b[39mlabel_encoder\u001b[38;5;241m.\u001b[39mclasses_))\n",
      "\u001b[1;31mAttributeError\u001b[0m: 'Sequential' object has no attribute 'predict_classes'"
     ]
    }
   ],
   "source": [
    "from sklearn.metrics import classification_report\n",
    "from tensorflow.keras.models import Sequential\n",
    "from tensorflow.keras.layers import SimpleRNN, Dense, Embedding, Dropout, Conv1D, MaxPooling1D, Flatten\n",
    "from tensorflow.keras.preprocessing.sequence import pad_sequences\n",
    "\n",
    "\n",
    "# Build the RNN model\n",
    "model = Sequential()\n",
    "# model.add(Embedding(input_dim=X_train.shape[1], output_dim=64, input_length=X_train.shape[1]))\n",
    "model.add(Conv1D(32, kernel_size=3, activation='relu', input_shape=(X_train.shape[1], 1)))\n",
    "model.add(MaxPooling1D(pool_size=2))\n",
    "model.add(Conv1D(32, kernel_size=3, activation='relu'))\n",
    "model.add(MaxPooling1D(pool_size=2))\n",
    "model.add(SimpleRNN(100, activation='relu'))\n",
    "model.add(Dropout(0.5))\n",
    "model.add(Dense(1, activation='sigmoid'))\n",
    "\n",
    "\n",
    "model.compile(optimizer='adam', loss='binary_crossentropy', metrics=['accuracy'])\n",
    "\n",
    "# Train the model\n",
    "model.fit(X_train, y_train, epochs=10, batch_size=32, validation_split=0.2)\n",
    "\n",
    "# Evaluate the model\n",
    "y_pred = model.predict(X_test)\n",
    "print(classification_report(y_test, y_pred, target_names=label_encoder.classes_))\n",
    "\n"
   ]
  },
  {
   "cell_type": "code",
   "execution_count": null,
   "metadata": {},
   "outputs": [],
   "source": []
  },
  {
   "cell_type": "code",
   "execution_count": null,
   "metadata": {},
   "outputs": [],
   "source": []
  },
  {
   "cell_type": "code",
   "execution_count": null,
   "metadata": {},
   "outputs": [],
   "source": []
  },
  {
   "cell_type": "code",
   "execution_count": null,
   "metadata": {},
   "outputs": [],
   "source": []
  },
  {
   "cell_type": "code",
   "execution_count": null,
   "metadata": {},
   "outputs": [],
   "source": []
  },
  {
   "cell_type": "code",
   "execution_count": null,
   "metadata": {},
   "outputs": [],
   "source": [
    "# Select best model and perform feature selection on it to check if it improves performance"
   ]
  },
  {
   "cell_type": "code",
   "execution_count": null,
   "metadata": {},
   "outputs": [],
   "source": [
    "# Hyperparameter tuning?"
   ]
  }
 ],
 "metadata": {
  "kernelspec": {
   "display_name": "Python 3 (ipykernel)",
   "language": "python",
   "name": "python3"
  },
  "language_info": {
   "codemirror_mode": {
    "name": "ipython",
    "version": 3
   },
   "file_extension": ".py",
   "mimetype": "text/x-python",
   "name": "python",
   "nbconvert_exporter": "python",
   "pygments_lexer": "ipython3",
   "version": "3.10.10"
  }
 },
 "nbformat": 4,
 "nbformat_minor": 4
}
